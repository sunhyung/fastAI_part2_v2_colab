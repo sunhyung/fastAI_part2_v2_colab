{
  "nbformat": 4,
  "nbformat_minor": 0,
  "metadata": {
    "colab": {
      "name": "Copy of FastAI_v2_setup.ipynb",
      "version": "0.3.2",
      "provenance": [],
      "toc_visible": true
    },
    "kernelspec": {
      "name": "python3",
      "display_name": "Python 3"
    },
    "accelerator": "GPU"
  },
  "cells": [
    {
      "metadata": {
        "id": "og-0W-o8-rQQ",
        "colab_type": "code",
        "colab": {}
      },
      "cell_type": "code",
      "source": [
        "#Setup Google Drive Integration\n",
        "\n",
        "!apt-get install -y -qq software-properties-common python-software-properties module-init-tools\n",
        "!add-apt-repository -y ppa:alessandro-strada/ppa 2>&1 > /dev/null\n",
        "!apt-get update -qq 2>&1 > /dev/null\n",
        "!apt-get -y install -qq google-drive-ocamlfuse fuse\n",
        "from google.colab import auth\n",
        "auth.authenticate_user()\n",
        "from oauth2client.client import GoogleCredentials\n",
        "creds = GoogleCredentials.get_application_default()\n",
        "import getpass\n",
        "!google-drive-ocamlfuse -headless -id={creds.client_id} -secret={creds.client_secret} < /dev/null 2>&1 | grep URL\n",
        "vcode = getpass.getpass()\n",
        "!echo {vcode} | google-drive-ocamlfuse -headless -id={creds.client_id} -secret={creds.client_secret}\n",
        "\n",
        "!mkdir -p drive\n",
        "!google-drive-ocamlfuse drive -o nonempty"
      ],
      "execution_count": 0,
      "outputs": []
    },
    {
      "metadata": {
        "id": "ZS4ewO3D-6fD",
        "colab_type": "code",
        "colab": {}
      },
      "cell_type": "code",
      "source": [
        "#Fast.AI Setup\n",
        "!git clone https://github.com/fastai/fastai.git\n",
        "import os\n",
        "os.chdir(\"fastai\")\n",
        "!git checkout tags/v0.7.2"
      ],
      "execution_count": 0,
      "outputs": []
    },
    {
      "metadata": {
        "id": "HLpl6fVt_sRU",
        "colab_type": "code",
        "colab": {}
      },
      "cell_type": "code",
      "source": [
        "os.chdir(\"..\")\n",
        "!pip install https://github.com/fastai/fastai/archive/v0.7.2.zip"
      ],
      "execution_count": 0,
      "outputs": []
    },
    {
      "metadata": {
        "id": "zVAenoU1GnVS",
        "colab_type": "code",
        "colab": {}
      },
      "cell_type": "code",
      "source": [
        "# http://pytorch.org/\n",
        "from os import path\n",
        "from wheel.pep425tags import get_abbr_impl, get_impl_ver, get_abi_tag\n",
        "platform = '{}{}-{}'.format(get_abbr_impl(), get_impl_ver(), get_abi_tag())\n",
        "\n",
        "accelerator = 'cu80' if path.exists('/opt/bin/nvidia-smi') else 'cpu'\n",
        "\n",
        "!pip install -q http://download.pytorch.org/whl/{accelerator}/torch-0.3.0.post4-{platform}-linux_x86_64.whl torchvision\n",
        "import torch"
      ],
      "execution_count": 0,
      "outputs": []
    },
    {
      "metadata": {
        "id": "CTOIOhCJJn-k",
        "colab_type": "code",
        "colab": {}
      },
      "cell_type": "code",
      "source": [
        "!pip install ipywidgets==6.0.0"
      ],
      "execution_count": 0,
      "outputs": []
    },
    {
      "metadata": {
        "id": "ul1Fd1p8BEPe",
        "colab_type": "code",
        "colab": {}
      },
      "cell_type": "code",
      "source": [
        "#Saving the notebook for Pascal to Google Drive\n",
        "!mkdir drive/fastAI_v2_colab && cp fastai/courses/dl2/pascal.ipynb drive/fastAI_v2_colab/pascal.ipynb\n",
        "!mkdir -p data/pascal\n",
        "os.chdir(\"data/pascal\")\n",
        "\n",
        "#Credits for the following script: https://github.com/noklam/fastaipart2v2helpder\n",
        "!wget \"https://raw.githubusercontent.com/noklam/fastaipart2v2helpder/master/data/pascal/pascal_test2007.json\"\n",
        "!wget \"https://raw.githubusercontent.com/noklam/fastaipart2v2helpder/master/data/pascal/pascal_train2007.json\"\n",
        "!wget \"https://raw.githubusercontent.com/noklam/fastaipart2v2helpder/master/data/pascal/pascal_train2012.json\"\n",
        "!wget \"https://raw.githubusercontent.com/noklam/fastaipart2v2helpder/master/data/pascal/pascal_val2007.json\"\n",
        "!wget \"https://raw.githubusercontent.com/noklam/fastaipart2v2helpder/master/data/pascal/pascal_val2012.json\"\n",
        "\n",
        "!curl \"https://pjreddie.com/media/files/VOCtrainval_11-May-2012.tar\" -H \"Accept: text/html,application/xhtml+xml,application/xml;q=0.9,*/*;q=0.8\" --compressed -H \"Accept-Language: en-US,en;q=0.5\" -H \"Connection: keep-alive\" -H \"Cookie: __utma=134107727.855222601.1521361366.1521361366.1521361366.1; __utmb=134107727.1.10.1521361366; __utmc=134107727; __utmz=134107727.1521361366.1.1.utmcsr=(direct)|utmccn=(direct)|utmcmd=(none); __utmt=1\" -H \"Host: pjreddie.com\" -H \"Upgrade-Insecure-Requests: 1\" -H \"User-Agent: Mozilla/5.0 (Windows NT 10.0; Win64; x64; rv:59.0) Gecko/20100101 Firefox/59.0\" -O \"VOCtrainval_11-May-2012.tar\"\n",
        "!curl \"https://pjreddie.com/media/files/VOCtrainval_06-Nov-2007.tar\" -H \"Accept: text/html,application/xhtml+xml,application/xml;q=0.9,*/*;q=0.8\" --compressed -H \"Accept-Language: en-US,en;q=0.5\" -H \"Connection: keep-alive\" -H \"Cookie: __utma=134107727.855222601.1521361366.1521361366.1521361366.1; __utmb=134107727.1.10.1521361366; __utmc=134107727; __utmz=134107727.1521361366.1.1.utmcsr=(direct)|utmccn=(direct)|utmcmd=(none); __utmt=1\" -H \"Host: pjreddie.com\" -H \"Upgrade-Insecure-Requests: 1\" -H \"User-Agent: Mozilla/5.0 (Windows NT 10.0; Win64; x64; rv:59.0) Gecko/20100101 Firefox/59.0\" -O \"VOCtrainval_06-Nov-2007.tar\"\n",
        "!tar -xvf VOCtrainval_06-Nov-2007.tar\n",
        "!tar -xvf VOCtrainval_11-May-2012.tar\n",
        "!mv VOCdevkit/VOC2007 .\n",
        "!mv VOCdevkit/VOC2012 .\n",
        "!rm -rf VOCdevkit/"
      ],
      "execution_count": 0,
      "outputs": []
    },
    {
      "metadata": {
        "id": "FJMfvpMGEg8z",
        "colab_type": "code",
        "colab": {}
      },
      "cell_type": "code",
      "source": [
        "#Now go to your Google Drive and open the notebook saved in fastAI_v2_colab folder.\n",
        "#Make sure you have runtime type for this as well as the notebook in google drive to GPU"
      ],
      "execution_count": 0,
      "outputs": []
    },
    {
      "metadata": {
        "id": "Uh0F8bWKFY_n",
        "colab_type": "code",
        "colab": {}
      },
      "cell_type": "code",
      "source": [
        "!ls -a"
      ],
      "execution_count": 0,
      "outputs": []
    },
    {
      "metadata": {
        "id": "nm03bS_8H8S5",
        "colab_type": "code",
        "colab": {}
      },
      "cell_type": "code",
      "source": [
        ""
      ],
      "execution_count": 0,
      "outputs": []
    }
  ]
}